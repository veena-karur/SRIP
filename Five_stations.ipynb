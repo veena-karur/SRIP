{
 "cells": [
  {
   "cell_type": "code",
   "execution_count": 1,
   "id": "e4d2b720",
   "metadata": {},
   "outputs": [],
   "source": [
    "# Importing necessary packages\n",
    "import numpy as np\n",
    "import pandas as pd\n",
    "import matplotlib.pyplot as plt \n",
    "import matplotlib as mpl\n",
    "from sklearn.datasets import load_digits\n",
    "digits = load_digits()"
   ]
  },
  {
   "cell_type": "code",
   "execution_count": 2,
   "id": "f9441eb0",
   "metadata": {},
   "outputs": [
    {
     "data": {
      "text/html": [
       "<div>\n",
       "<style scoped>\n",
       "    .dataframe tbody tr th:only-of-type {\n",
       "        vertical-align: middle;\n",
       "    }\n",
       "\n",
       "    .dataframe tbody tr th {\n",
       "        vertical-align: top;\n",
       "    }\n",
       "\n",
       "    .dataframe thead th {\n",
       "        text-align: right;\n",
       "    }\n",
       "</style>\n",
       "<table border=\"1\" class=\"dataframe\">\n",
       "  <thead>\n",
       "    <tr style=\"text-align: right;\">\n",
       "      <th></th>\n",
       "      <th>Murthandi</th>\n",
       "      <th>Jagdalpur</th>\n",
       "      <th>Nowrangpur</th>\n",
       "    </tr>\n",
       "  </thead>\n",
       "  <tbody>\n",
       "    <tr>\n",
       "      <th>0</th>\n",
       "      <td>13.29</td>\n",
       "      <td>18.18</td>\n",
       "      <td>20.34</td>\n",
       "    </tr>\n",
       "    <tr>\n",
       "      <th>1</th>\n",
       "      <td>13.04</td>\n",
       "      <td>19.41</td>\n",
       "      <td>20.41</td>\n",
       "    </tr>\n",
       "    <tr>\n",
       "      <th>2</th>\n",
       "      <td>12.84</td>\n",
       "      <td>19.07</td>\n",
       "      <td>21.24</td>\n",
       "    </tr>\n",
       "    <tr>\n",
       "      <th>3</th>\n",
       "      <td>13.27</td>\n",
       "      <td>17.33</td>\n",
       "      <td>19.14</td>\n",
       "    </tr>\n",
       "    <tr>\n",
       "      <th>4</th>\n",
       "      <td>12.57</td>\n",
       "      <td>16.39</td>\n",
       "      <td>20.05</td>\n",
       "    </tr>\n",
       "    <tr>\n",
       "      <th>...</th>\n",
       "      <td>...</td>\n",
       "      <td>...</td>\n",
       "      <td>...</td>\n",
       "    </tr>\n",
       "    <tr>\n",
       "      <th>4043</th>\n",
       "      <td>8.71</td>\n",
       "      <td>3.30</td>\n",
       "      <td>5.10</td>\n",
       "    </tr>\n",
       "    <tr>\n",
       "      <th>4044</th>\n",
       "      <td>8.50</td>\n",
       "      <td>3.23</td>\n",
       "      <td>4.54</td>\n",
       "    </tr>\n",
       "    <tr>\n",
       "      <th>4045</th>\n",
       "      <td>8.46</td>\n",
       "      <td>3.09</td>\n",
       "      <td>4.55</td>\n",
       "    </tr>\n",
       "    <tr>\n",
       "      <th>4046</th>\n",
       "      <td>8.19</td>\n",
       "      <td>3.03</td>\n",
       "      <td>4.57</td>\n",
       "    </tr>\n",
       "    <tr>\n",
       "      <th>4047</th>\n",
       "      <td>8.02</td>\n",
       "      <td>3.07</td>\n",
       "      <td>4.62</td>\n",
       "    </tr>\n",
       "  </tbody>\n",
       "</table>\n",
       "<p>4048 rows × 3 columns</p>\n",
       "</div>"
      ],
      "text/plain": [
       "      Murthandi  Jagdalpur  Nowrangpur\n",
       "0         13.29      18.18       20.34\n",
       "1         13.04      19.41       20.41\n",
       "2         12.84      19.07       21.24\n",
       "3         13.27      17.33       19.14\n",
       "4         12.57      16.39       20.05\n",
       "...         ...        ...         ...\n",
       "4043       8.71       3.30        5.10\n",
       "4044       8.50       3.23        4.54\n",
       "4045       8.46       3.09        4.55\n",
       "4046       8.19       3.03        4.57\n",
       "4047       8.02       3.07        4.62\n",
       "\n",
       "[4048 rows x 3 columns]"
      ]
     },
     "execution_count": 2,
     "metadata": {},
     "output_type": "execute_result"
    }
   ],
   "source": [
    "import pandas as pd\n",
    "\n",
    " \n",
    "dta = pd.read_csv('F:/5_stations/4_stations.csv')\n",
    "\n",
    "col_ct = dta.shape[1]\n",
    "dta"
   ]
  },
  {
   "cell_type": "code",
   "execution_count": 3,
   "id": "506a4019",
   "metadata": {},
   "outputs": [],
   "source": [
    "dt =dta.Nowrangpur.copy()\n",
    "pt=dta.Murthandi.copy()\n",
    "ct =dta.Nowrangpur.copy()\n",
    "#ft =dta.Murthandi.copy()\n",
    "#et =dta.Sonarpal.copy()"
   ]
  },
  {
   "cell_type": "code",
   "execution_count": 4,
   "id": "d1a7bdef",
   "metadata": {},
   "outputs": [
    {
     "data": {
      "text/plain": [
       "4048"
      ]
     },
     "execution_count": 4,
     "metadata": {},
     "output_type": "execute_result"
    }
   ],
   "source": [
    "len(dta)"
   ]
  },
  {
   "cell_type": "code",
   "execution_count": 5,
   "id": "812b34b4",
   "metadata": {},
   "outputs": [
    {
     "name": "stderr",
     "output_type": "stream",
     "text": [
      "C:\\Users\\USER\\AppData\\Local\\Temp\\ipykernel_38100\\1755321733.py:19: VisibleDeprecationWarning: Creating an ndarray from ragged nested sequences (which is a list-or-tuple of lists-or-tuples-or ndarrays with different lengths or shapes) is deprecated. If you meant to do this, you must specify 'dtype=object' when creating the ndarray.\n",
      "  ran =np.array([r1,r2,r3])\n"
     ]
    },
    {
     "data": {
      "text/plain": [
       "array([  21,   28,   37,   46,   50,   76,  120,  150,  164,  170,  174,\n",
       "        181,  187,  188,  200,  218,  219,  222,  230,  233,  259,  272,\n",
       "        278,  285,  286,  289,  294,  301,  302,  304,  306,  308,  318,\n",
       "        326,  336,  345,  350,  355,  360,  371,  386,  395,  407,  410,\n",
       "        417,  419,  421,  430,  450,  453,  496,  497,  511,  512,  523,\n",
       "        524,  538,  554,  557,  585,  598,  608,  609,  618,  625,  631,\n",
       "        639,  659,  660,  663,  676,  677,  679,  685,  693,  698,  705,\n",
       "        713,  717,  734,  741,  759,  765,  771,  778,  781,  793,  799,\n",
       "        800,  805,  819,  823,  824,  825,  836,  860,  868,  884,  886,\n",
       "        913,  936,  937,  956,  960,  963,  965,  966,  995, 1000, 1002,\n",
       "       1015, 1021, 1025, 1035, 1049, 1053, 1054, 1055, 1059, 1062, 1066,\n",
       "       1103, 1104, 1134, 1135, 1144, 1158, 1161, 1188, 1197, 1202, 1207,\n",
       "       1209, 1211, 1231, 1244, 1256, 1263, 1274, 1301, 1307, 1313, 1333,\n",
       "       1339, 1340, 1347, 1351, 1381, 1388, 1391, 1400, 1405, 1433, 1434,\n",
       "       1438, 1444, 1450, 1465, 1470, 1529, 1532, 1548, 1561, 1569, 1575,\n",
       "       1580, 1609, 1614, 1624, 1646, 1658, 1662, 1668, 1675, 1679, 1691,\n",
       "       1695, 1720, 1731, 1737, 1745, 1746, 1755, 1762, 1764, 1768, 1795,\n",
       "       1801, 1803, 1829, 1832, 1837, 1839, 1853, 1865, 1878, 1898, 1914,\n",
       "       1916, 1917, 1925, 1926, 1935, 1977, 2000, 2006, 2007, 2016, 2020,\n",
       "       2023, 2030, 2040, 2063, 2069, 2070, 2078, 2082, 2087, 2102, 2103,\n",
       "       2122, 2123, 2131, 2138, 2140, 2143, 2147, 2149, 2154, 2168, 2178,\n",
       "       2201, 2207, 2225, 2231, 2235, 2237, 2255, 2257, 2270, 2271, 2278,\n",
       "       2291, 2309, 2314, 2316, 2323, 2372, 2375, 2401, 2415, 2421, 2440,\n",
       "       2449, 2467, 2473, 2479, 2495, 2501, 2513, 2516, 2520, 2545, 2570,\n",
       "       2573, 2574, 2579, 2581, 2614, 2636, 2639, 2652, 2666, 2668, 2674,\n",
       "       2675, 2694, 2695, 2710, 2719, 2726, 2743, 2759, 2762, 2764, 2795,\n",
       "       2800, 2805, 2849, 2859, 2900, 2918, 2923, 2927, 2938, 2944, 2949,\n",
       "       2957, 2966, 3007, 3013, 3032, 3043, 3048, 3060, 3090, 3109, 3125,\n",
       "       3137, 3143, 3163, 3175, 3176, 3178, 3184, 3188, 3202, 3203, 3208,\n",
       "       3211, 3214, 3223, 3231, 3257, 3277, 3279, 3286, 3292, 3317, 3354,\n",
       "       3360, 3368, 3383, 3406, 3421, 3424, 3433, 3437, 3474, 3488, 3489,\n",
       "       3494, 3504, 3513, 3531, 3536, 3540, 3576, 3581, 3595, 3620, 3633,\n",
       "       3636, 3647, 3650, 3663, 3688, 3709, 3713, 3717, 3732, 3750, 3764,\n",
       "       3769, 3772, 3776, 3784, 3788, 3790, 3797, 3802, 3805, 3843, 3847,\n",
       "       3851, 3865, 3868, 3882, 3884, 3893, 3898, 3900, 3906, 3908, 3922,\n",
       "       3928, 3932, 3933, 3934, 3938, 3948, 3963, 3967, 3969, 3972, 3982,\n",
       "       4020, 4022, 4028, 4041])"
      ]
     },
     "execution_count": 5,
     "metadata": {},
     "output_type": "execute_result"
    }
   ],
   "source": [
    "import numpy as np\n",
    "import random\n",
    "\n",
    "ran1 = random.sample(range(1,len(dta)),400)   \n",
    "ran2= random.sample(range(1,len(dta)),550)                              \n",
    "ran3 = random.sample(range(1,len(dta)),400)\n",
    "#ran4 = random.sample(range(1,len(dta)),220)               \n",
    "#ran5 = random.sample(range(1,len(dta)),250)           \n",
    "ran1.sort()\n",
    "ran2.sort()\n",
    "ran3.sort()\n",
    "#ran4.sort()\n",
    "#ran5.sort()\n",
    "r1=np.array(ran1)\n",
    "r2=np.array(ran2)\n",
    "r3=np.array(ran3)\n",
    "#r4=np.array(ran4)\n",
    "#r5=np.array(ran5)\n",
    "ran =np.array([r1,r2,r3])\n",
    "#ran\n",
    "random1=ran.copy()\n",
    "random2=ran.copy()\n",
    "ran[0]"
   ]
  },
  {
   "cell_type": "code",
   "execution_count": 6,
   "id": "d316ad7a",
   "metadata": {},
   "outputs": [],
   "source": [
    "#ran"
   ]
  },
  {
   "cell_type": "code",
   "execution_count": 7,
   "id": "b988df19",
   "metadata": {
    "scrolled": true
   },
   "outputs": [
    {
     "data": {
      "text/html": [
       "<div>\n",
       "<style scoped>\n",
       "    .dataframe tbody tr th:only-of-type {\n",
       "        vertical-align: middle;\n",
       "    }\n",
       "\n",
       "    .dataframe tbody tr th {\n",
       "        vertical-align: top;\n",
       "    }\n",
       "\n",
       "    .dataframe thead th {\n",
       "        text-align: right;\n",
       "    }\n",
       "</style>\n",
       "<table border=\"1\" class=\"dataframe\">\n",
       "  <thead>\n",
       "    <tr style=\"text-align: right;\">\n",
       "      <th></th>\n",
       "      <th>Murthandi</th>\n",
       "      <th>Jagdalpur</th>\n",
       "      <th>Nowrangpur</th>\n",
       "    </tr>\n",
       "  </thead>\n",
       "  <tbody>\n",
       "    <tr>\n",
       "      <th>0</th>\n",
       "      <td>-0.444860</td>\n",
       "      <td>-0.406450</td>\n",
       "      <td>-0.416565</td>\n",
       "    </tr>\n",
       "    <tr>\n",
       "      <th>1</th>\n",
       "      <td>-0.447324</td>\n",
       "      <td>-0.401606</td>\n",
       "      <td>-0.416211</td>\n",
       "    </tr>\n",
       "    <tr>\n",
       "      <th>2</th>\n",
       "      <td>-0.449296</td>\n",
       "      <td>-0.402945</td>\n",
       "      <td>-0.412013</td>\n",
       "    </tr>\n",
       "    <tr>\n",
       "      <th>3</th>\n",
       "      <td>-0.445057</td>\n",
       "      <td>-0.409797</td>\n",
       "      <td>-0.422634</td>\n",
       "    </tr>\n",
       "    <tr>\n",
       "      <th>4</th>\n",
       "      <td>-0.451957</td>\n",
       "      <td>-0.413498</td>\n",
       "      <td>-0.418031</td>\n",
       "    </tr>\n",
       "    <tr>\n",
       "      <th>...</th>\n",
       "      <td>...</td>\n",
       "      <td>...</td>\n",
       "      <td>...</td>\n",
       "    </tr>\n",
       "    <tr>\n",
       "      <th>4043</th>\n",
       "      <td>-0.490005</td>\n",
       "      <td>-0.465045</td>\n",
       "      <td>-0.493643</td>\n",
       "    </tr>\n",
       "    <tr>\n",
       "      <th>4044</th>\n",
       "      <td>-0.492075</td>\n",
       "      <td>-0.465321</td>\n",
       "      <td>-0.496475</td>\n",
       "    </tr>\n",
       "    <tr>\n",
       "      <th>4045</th>\n",
       "      <td>-0.492469</td>\n",
       "      <td>-0.465872</td>\n",
       "      <td>-0.496425</td>\n",
       "    </tr>\n",
       "    <tr>\n",
       "      <th>4046</th>\n",
       "      <td>-0.495131</td>\n",
       "      <td>-0.466109</td>\n",
       "      <td>-0.496324</td>\n",
       "    </tr>\n",
       "    <tr>\n",
       "      <th>4047</th>\n",
       "      <td>-0.496807</td>\n",
       "      <td>-0.465951</td>\n",
       "      <td>-0.496071</td>\n",
       "    </tr>\n",
       "  </tbody>\n",
       "</table>\n",
       "<p>4048 rows × 3 columns</p>\n",
       "</div>"
      ],
      "text/plain": [
       "      Murthandi  Jagdalpur  Nowrangpur\n",
       "0     -0.444860  -0.406450   -0.416565\n",
       "1     -0.447324  -0.401606   -0.416211\n",
       "2     -0.449296  -0.402945   -0.412013\n",
       "3     -0.445057  -0.409797   -0.422634\n",
       "4     -0.451957  -0.413498   -0.418031\n",
       "...         ...        ...         ...\n",
       "4043  -0.490005  -0.465045   -0.493643\n",
       "4044  -0.492075  -0.465321   -0.496475\n",
       "4045  -0.492469  -0.465872   -0.496425\n",
       "4046  -0.495131  -0.466109   -0.496324\n",
       "4047  -0.496807  -0.465951   -0.496071\n",
       "\n",
       "[4048 rows x 3 columns]"
      ]
     },
     "metadata": {},
     "output_type": "display_data"
    }
   ],
   "source": [
    " dt_c = dta.copy()\n",
    "# apply normalization techniques\n",
    "for column in dt_c.columns:\n",
    "    dt_c[column] = (dt_c[column]-dt_c[column].mean()) / dt_c[column].std()    \n",
    "  \n",
    "#view normalized data   \n",
    "display(dt_c)"
   ]
  },
  {
   "cell_type": "code",
   "execution_count": 8,
   "id": "0ce624b1",
   "metadata": {},
   "outputs": [],
   "source": [
    "dt1 = dt_c.copy()\n",
    "dt2 = dt_c.copy()\n",
    "dt3 = dt_c.copy()\n"
   ]
  },
  {
   "cell_type": "code",
   "execution_count": 9,
   "id": "4db43000",
   "metadata": {},
   "outputs": [
    {
     "data": {
      "text/plain": [
       "array([[-0.44486002, -0.40644964, -0.41656456],\n",
       "       [-0.44732428, -0.40160605, -0.41621052],\n",
       "       [-0.44929568, -0.40294493, -0.41201268],\n",
       "       ...,\n",
       "       [-0.49246946, -0.46587225, -0.49642479],\n",
       "       [-0.49513085, -0.46610853, -0.49632364],\n",
       "       [-0.49680655, -0.46595101, -0.49607075]])"
      ]
     },
     "execution_count": 9,
     "metadata": {},
     "output_type": "execute_result"
    }
   ],
   "source": [
    "org_ar = dt1.to_numpy()\n",
    "org_ar"
   ]
  },
  {
   "cell_type": "code",
   "execution_count": 10,
   "id": "0080fbb2",
   "metadata": {
    "scrolled": false
   },
   "outputs": [
    {
     "data": {
      "text/plain": [
       "array([[-0.44486002, -0.40644964, -0.41656456],\n",
       "       [-0.44732428, -0.40160605, -0.41621052],\n",
       "       [-0.44929568, -0.40294493, -0.41201268],\n",
       "       ...,\n",
       "       [-0.49246946, -0.46587225, -0.49642479],\n",
       "       [-0.49513085,  0.        , -0.49632364],\n",
       "       [-0.49680655, -0.46595101, -0.49607075]])"
      ]
     },
     "execution_count": 10,
     "metadata": {},
     "output_type": "execute_result"
    }
   ],
   "source": [
    "ar1 = org_ar.copy()  #org\n",
    "ar2 = org_ar.copy()  #previous\n",
    "ar3 = org_ar.copy()  #next \n",
    "chk1= org_ar.copy()  #for check \n",
    "chk2=org_ar.copy() #for check\n",
    "\n",
    "for j in range(0,len(org_ar[1])):\n",
    "    for i in range(0,len(ran[j])):\n",
    "        ar3[ran[j][i]][j]=0\n",
    "\n",
    "\n",
    "                 \n",
    "ar3"
   ]
  },
  {
   "cell_type": "code",
   "execution_count": 11,
   "id": "b4a43127",
   "metadata": {},
   "outputs": [
    {
     "data": {
      "text/plain": [
       "4048"
      ]
     },
     "execution_count": 11,
     "metadata": {},
     "output_type": "execute_result"
    }
   ],
   "source": [
    "len(ar3)"
   ]
  },
  {
   "cell_type": "code",
   "execution_count": 12,
   "id": "917fda4c",
   "metadata": {},
   "outputs": [
    {
     "data": {
      "text/plain": [
       "array([[1., 1., 1.],\n",
       "       [1., 1., 1.],\n",
       "       [1., 1., 1.],\n",
       "       ...,\n",
       "       [1., 1., 1.],\n",
       "       [1., 1., 1.],\n",
       "       [1., 1., 1.]])"
      ]
     },
     "execution_count": 12,
     "metadata": {},
     "output_type": "execute_result"
    }
   ],
   "source": [
    "import numpy as np\n",
    "ar = np.ones([len(org_ar), len(org_ar[1])])\n",
    "ar"
   ]
  },
  {
   "cell_type": "code",
   "execution_count": 13,
   "id": "592772a5",
   "metadata": {},
   "outputs": [
    {
     "data": {
      "text/plain": [
       "array([[1., 1., 1.],\n",
       "       [1., 1., 1.],\n",
       "       [1., 1., 1.],\n",
       "       ...,\n",
       "       [1., 1., 1.],\n",
       "       [1., 0., 1.],\n",
       "       [1., 1., 1.]])"
      ]
     },
     "execution_count": 13,
     "metadata": {},
     "output_type": "execute_result"
    }
   ],
   "source": [
    "for j in range(0,len(org_ar[1])):   \n",
    "    for i in range(0,len(ran[j])):\n",
    "        ar[ran[j][i]][j]=0\n",
    "ar"
   ]
  },
  {
   "cell_type": "code",
   "execution_count": 14,
   "id": "cd69bf4c",
   "metadata": {},
   "outputs": [
    {
     "data": {
      "text/plain": [
       "array([[1., 1., 1.],\n",
       "       [1., 1., 1.],\n",
       "       [1., 1., 1.],\n",
       "       ...,\n",
       "       [1., 1., 1.],\n",
       "       [1., 0., 1.],\n",
       "       [1., 1., 1.]])"
      ]
     },
     "execution_count": 14,
     "metadata": {},
     "output_type": "execute_result"
    }
   ],
   "source": [
    "chk_ar=ar.copy()\n",
    "chk_ar1=ar.copy()\n",
    "chk_ar"
   ]
  },
  {
   "cell_type": "code",
   "execution_count": 15,
   "id": "6699bf9c",
   "metadata": {},
   "outputs": [
    {
     "data": {
      "text/plain": [
       "array([-0.44486002, -0.44732428, -0.44929568, ..., -0.49246946,\n",
       "       -0.49513085, -0.49680655])"
      ]
     },
     "execution_count": 15,
     "metadata": {},
     "output_type": "execute_result"
    }
   ],
   "source": [
    "for i in range(0,(len(dta)-1)):\n",
    "    if ar3[i][0]==0:\n",
    "        ar3[i][0] = (ar3[i+1][0]+ar3[i-1][0])/2\n",
    "\n",
    "ar3[:,0]\n"
   ]
  },
  {
   "cell_type": "code",
   "execution_count": 16,
   "id": "6dc29a54",
   "metadata": {},
   "outputs": [
    {
     "name": "stderr",
     "output_type": "stream",
     "text": [
      "C:\\Users\\USER\\AppData\\Local\\Temp\\ipykernel_38100\\3736287638.py:29: DataConversionWarning: A column-vector y was passed when a 1d array was expected. Please change the shape of y to (n_samples,), for example using ravel().\n",
      "  m = regressor.fit(A_d,B_d)\n",
      "C:\\Users\\USER\\AppData\\Local\\Temp\\ipykernel_38100\\3736287638.py:29: DataConversionWarning: A column-vector y was passed when a 1d array was expected. Please change the shape of y to (n_samples,), for example using ravel().\n",
      "  m = regressor.fit(A_d,B_d)\n",
      "C:\\Users\\USER\\AppData\\Local\\Temp\\ipykernel_38100\\3736287638.py:61: DataConversionWarning: A column-vector y was passed when a 1d array was expected. Please change the shape of y to (n_samples,), for example using ravel().\n",
      "  m = regressor1.fit(c2_d,c1_d)\n"
     ]
    },
    {
     "name": "stdout",
     "output_type": "stream",
     "text": [
      "0.9672350274048405\n"
     ]
    },
    {
     "name": "stderr",
     "output_type": "stream",
     "text": [
      "C:\\Users\\USER\\AppData\\Local\\Temp\\ipykernel_38100\\3736287638.py:29: DataConversionWarning: A column-vector y was passed when a 1d array was expected. Please change the shape of y to (n_samples,), for example using ravel().\n",
      "  m = regressor.fit(A_d,B_d)\n",
      "C:\\Users\\USER\\AppData\\Local\\Temp\\ipykernel_38100\\3736287638.py:29: DataConversionWarning: A column-vector y was passed when a 1d array was expected. Please change the shape of y to (n_samples,), for example using ravel().\n",
      "  m = regressor.fit(A_d,B_d)\n",
      "C:\\Users\\USER\\AppData\\Local\\Temp\\ipykernel_38100\\3736287638.py:61: DataConversionWarning: A column-vector y was passed when a 1d array was expected. Please change the shape of y to (n_samples,), for example using ravel().\n",
      "  m = regressor1.fit(c2_d,c1_d)\n"
     ]
    },
    {
     "name": "stdout",
     "output_type": "stream",
     "text": [
      "4.515441180122095\n"
     ]
    }
   ],
   "source": [
    "delta_old =99999\n",
    "delta_new =99999\n",
    "import pandas as pd\n",
    "import numpy as np\n",
    "from sklearn.ensemble import RandomForestRegressor\n",
    "indicator=0\n",
    "temp_ar =np.zeros([len(org_ar), len(org_ar[1])])\n",
    "\n",
    "\n",
    "for iter in range(1,500):\n",
    "    A=[] \n",
    "    B=[]\n",
    "    a_miss=[]\n",
    "    b_miss=[]\n",
    "    \n",
    "    \n",
    "    for j in range(1,len(chk_ar[1])):  # j is the column number\n",
    "        \n",
    "################################################################################ To fit from 0th column to 4th column\n",
    "        for i in range(0,len(org_ar)):  # i is row number\n",
    "            if chk_ar[i][j]!=0:\n",
    "                B.append(ar3[i][j])\n",
    "                A.append(ar3[i][0])\n",
    "        A_r= np.array(A)\n",
    "        B_r=np.array(B)\n",
    "        A_d = pd.DataFrame(A_r)\n",
    "        B_d=pd.DataFrame(B_r)\n",
    "        regressor = RandomForestRegressor(n_estimators = 1000, random_state = 0)\n",
    "        m = regressor.fit(A_d,B_d)\n",
    "        \n",
    "############################################################################## To predict from 0th column to 4th column\n",
    "        for i in range(0,len(org_ar)):\n",
    "            if chk_ar[i][j]==0:\n",
    "                a_miss.append(ar3[i][0])\n",
    "                b_miss.append(ar3[i][j])\n",
    "                \n",
    "        a_r=np.array(a_miss)\n",
    "        a_d=pd.DataFrame(a_r)\n",
    "        b_pred = regressor.predict(a_d) \n",
    "        for m in range(0,len(ran[j])):\n",
    "            ar3[ran[j][m]][j]=b_pred[m] \n",
    "################################################################## Updating to a temporary array\n",
    "        temp_ar[:,j]=ar3[:,j].copy()\n",
    "        \n",
    "###################################################################### To predict 0th column from 1st column of Temporary array\n",
    "    cl1=[]\n",
    "    cl2=[]\n",
    "    cl1_m=[]\n",
    "    cl2_m=[]\n",
    "        \n",
    "    for i in range(0,len(org_ar)):\n",
    "        if chk_ar[i][0]!=0:                               #chk_ar[i][0] first column of 0's and 1's\n",
    "            cl1.append(ar3[i][0])    \n",
    "            cl2.append(temp_ar[i][1])\n",
    "            \n",
    "    c1_r= np.array(cl1)\n",
    "    c2_r=np.array(cl2)\n",
    "    c1_d = pd.DataFrame(c1_r)\n",
    "    c2_d=pd.DataFrame(c2_r)\n",
    "    regressor1 = RandomForestRegressor(n_estimators = 1000, random_state = 0)\n",
    "    m = regressor1.fit(c2_d,c1_d)   \n",
    "#####################################################################################################\n",
    "    for i in range(0,len(org_ar)):\n",
    "        if chk_ar[i][0]==0:                                 #chk_ar[i][0] first column of 0's and 1's\n",
    "            cl1_m.append(ar3[i][0])\n",
    "            cl2_m.append(temp_ar[i][1])\n",
    "                \n",
    "    cl_r=np.array(cl2_m)\n",
    "    cl_d=pd.DataFrame(cl_r)\n",
    "        \n",
    "    a_pred=regressor1.predict(cl_d)\n",
    "        \n",
    "    for m in range(0,len(ran[0])):\n",
    "       \n",
    "        ar3[ran[0][m]][0] =a_pred[m]\n",
    "         \n",
    "    temp_ar[:,0]=ar3[:,0]\n",
    "    \n",
    "#################################################################### Shifting the columns from Temporary array to ar3\n",
    "    first_col = temp_ar[:,0].copy()\n",
    "    first_row = ar3[0]\n",
    "    for i in range ((len(org_ar[1])-1),0,-1):\n",
    "        ar3[i-1] = ar3[i]\n",
    "        ar3[:,i-1] = temp_ar[:,i]\n",
    "        \n",
    "    ar3[(len(org_ar[0])-1)] = first_row\n",
    "    ar3[:,(len(org_ar[0])-1)]=first_col\n",
    "    \n",
    "    if indicator < (len(org_ar[1])-1):\n",
    "        indicator = indicator+1\n",
    "    else:\n",
    "        indicator = 0\n",
    "############################################################################### Shifting the 0's and 1's column\n",
    "    zero_ar =np.zeros([len(org_ar), len(org_ar[1])])\n",
    "    first_col = chk_ar[:,0].copy()\n",
    "    first_row = ran[0].copy()\n",
    "    for i in range ((len(org_ar[1])-1),0,-1):\n",
    "        zero_ar[:,i-1] = chk_ar[:,i]\n",
    "        random1[i-1] = ran[i]\n",
    "            \n",
    "\n",
    "    zero_ar[:,(len(org_ar[0])-1)] = first_col\n",
    "    chk_ar = zero_ar \n",
    "    random1[(len(org_ar[0])-1)] = first_row\n",
    "    ran = random1          \n",
    "                                                   # Now copying the temporary array to main array\n",
    "############################################################################ Shifting the random array\n",
    "                                                  \n",
    "\n",
    "############################################################# Calculating stop criteria\n",
    "    sum1=0\n",
    "    sum2=0\n",
    "    for k in range(0,len(chk_ar[0])):\n",
    "        if k < (len(chk_ar[0])-1):\n",
    "            sum1 = sum1+sum((ar3[:,k]-ar2[:,k+1])**2)\n",
    "            sum2 = sum2+abs(sum(ar3[:,k])**2)\n",
    "        else:\n",
    "            sum1= sum1+sum(((ar3[:,(len(chk_ar[0])-1)])-ar2[:,0])**2)\n",
    "            sum2 = sum2+abs(sum(ar3[:,(len(chk_ar[0])-1)]))\n",
    "        \n",
    "                             \n",
    "      \n",
    "    delta1 = (sum1/sum2)                  \n",
    "    delta_old=delta_new\n",
    "    delta_new=delta1\n",
    "        \n",
    "    print(delta1)\n",
    "    ar2 = ar3\n",
    "    \n",
    "    if  delta_new > delta_old:\n",
    "        break\n",
    "    "
   ]
  },
  {
   "cell_type": "code",
   "execution_count": 17,
   "id": "a0b3a022",
   "metadata": {},
   "outputs": [
    {
     "data": {
      "text/plain": [
       "array([[1., 1., 1.],\n",
       "       [1., 1., 1.],\n",
       "       [1., 1., 1.],\n",
       "       ...,\n",
       "       [1., 1., 1.],\n",
       "       [1., 1., 0.],\n",
       "       [1., 1., 1.]])"
      ]
     },
     "execution_count": 17,
     "metadata": {},
     "output_type": "execute_result"
    }
   ],
   "source": [
    "chk_ar"
   ]
  },
  {
   "cell_type": "code",
   "execution_count": 18,
   "id": "e7cd1ac0",
   "metadata": {},
   "outputs": [
    {
     "data": {
      "text/plain": [
       "2"
      ]
     },
     "execution_count": 18,
     "metadata": {},
     "output_type": "execute_result"
    }
   ],
   "source": [
    "(len(org_ar[1])-1)"
   ]
  },
  {
   "cell_type": "code",
   "execution_count": 19,
   "id": "8a4fac31",
   "metadata": {
    "scrolled": true
   },
   "outputs": [
    {
     "data": {
      "text/plain": [
       "2"
      ]
     },
     "execution_count": 19,
     "metadata": {},
     "output_type": "execute_result"
    }
   ],
   "source": [
    "iter"
   ]
  },
  {
   "cell_type": "code",
   "execution_count": 20,
   "id": "902d9b79",
   "metadata": {},
   "outputs": [
    {
     "data": {
      "text/plain": [
       "2"
      ]
     },
     "execution_count": 20,
     "metadata": {},
     "output_type": "execute_result"
    }
   ],
   "source": [
    "indicator"
   ]
  },
  {
   "cell_type": "code",
   "execution_count": 21,
   "id": "4ea8ce68",
   "metadata": {},
   "outputs": [
    {
     "data": {
      "text/plain": [
       "array([[-0.41621052, -0.44732428, -0.40644964],\n",
       "       [-0.41621052, -0.44732428, -0.40160605],\n",
       "       [-0.41621052, -0.44732428, -0.40644964],\n",
       "       ...,\n",
       "       [-0.49642479, -0.49246946, -0.46587225],\n",
       "       [-0.49632364, -0.49513085, -0.46492569],\n",
       "       [-0.49607075, -0.49680655, -0.46595101]])"
      ]
     },
     "execution_count": 21,
     "metadata": {},
     "output_type": "execute_result"
    }
   ],
   "source": [
    "ar3"
   ]
  },
  {
   "cell_type": "code",
   "execution_count": 22,
   "id": "e715d0f6",
   "metadata": {},
   "outputs": [
    {
     "data": {
      "text/plain": [
       "array([[-0.44486002, -0.40644964, -0.41656456],\n",
       "       [-0.44732428, -0.40160605, -0.41621052],\n",
       "       [-0.44929568, -0.40294493, -0.41201268],\n",
       "       ...,\n",
       "       [-0.49246946, -0.46587225, -0.49642479],\n",
       "       [-0.49513085, -0.46610853, -0.49632364],\n",
       "       [-0.49680655, -0.46595101, -0.49607075]])"
      ]
     },
     "execution_count": 22,
     "metadata": {},
     "output_type": "execute_result"
    }
   ],
   "source": [
    "org_ar"
   ]
  },
  {
   "cell_type": "code",
   "execution_count": 23,
   "id": "89c35654",
   "metadata": {},
   "outputs": [],
   "source": [
    "a_copy = ar3[:,1].copy()"
   ]
  },
  {
   "cell_type": "code",
   "execution_count": 24,
   "id": "9f803d60",
   "metadata": {},
   "outputs": [],
   "source": [
    "b_copy = ar3[:,0].copy()"
   ]
  },
  {
   "cell_type": "code",
   "execution_count": 25,
   "id": "8275b785",
   "metadata": {},
   "outputs": [],
   "source": [
    "c_copy = ar3[:,0].copy()"
   ]
  },
  {
   "cell_type": "code",
   "execution_count": 26,
   "id": "2284febf",
   "metadata": {},
   "outputs": [],
   "source": [
    "#d_copy = ar3[:,1].copy()"
   ]
  },
  {
   "cell_type": "code",
   "execution_count": 27,
   "id": "6e8fad41",
   "metadata": {},
   "outputs": [],
   "source": [
    "#e_copy = ar3[:,2].copy()"
   ]
  },
  {
   "cell_type": "code",
   "execution_count": 28,
   "id": "2f7aaad5",
   "metadata": {},
   "outputs": [],
   "source": [
    "for i in range(0,len(dta)):\n",
    "    a_copy[i] = (a_copy[i]*dt.std()) + dt.mean()\n",
    "    b_copy[i] = (b_copy[i]*pt.std()) + pt.mean()\n",
    "    #c_copy[i] = (c_copy[i]*ct.std()) + ct.mean() \n",
    "    #d_copy[i] = (d_copy[i]*ft.std()) + ft.mean() \n",
    "    #e_copy[i] = (e_copy[i]*et.std()) + et.mean() "
   ]
  },
  {
   "cell_type": "code",
   "execution_count": 29,
   "id": "1f76cb4b",
   "metadata": {},
   "outputs": [],
   "source": [
    "n_axis=[]\n",
    "for i in range(0,len(dta)):\n",
    "    n_axis.append(i)"
   ]
  },
  {
   "cell_type": "code",
   "execution_count": 30,
   "id": "3dbdc908",
   "metadata": {},
   "outputs": [
    {
     "data": {
      "text/plain": [
       "array([14.25817439, 14.25817439, 14.25817439, ...,  5.33205029,\n",
       "        4.80583773,  4.47451871])"
      ]
     },
     "execution_count": 30,
     "metadata": {},
     "output_type": "execute_result"
    }
   ],
   "source": [
    "a_copy"
   ]
  },
  {
   "cell_type": "code",
   "execution_count": 31,
   "id": "9abf1ab5",
   "metadata": {},
   "outputs": [],
   "source": [
    "g_m =[]\n",
    "h_m=[]\n",
    "for i in range(0,len(ran1)):\n",
    "    tp =dt[ran1[i]]\n",
    "    g_m.append(tp)\n",
    "    tp1=a_copy[ran1[i]]\n",
    "    h_m.append(tp1)\n",
    "g = pd.DataFrame({'col':g_m})\n",
    "h =pd.DataFrame({'col':h_m})\n"
   ]
  },
  {
   "cell_type": "code",
   "execution_count": 32,
   "id": "73f63a23",
   "metadata": {},
   "outputs": [],
   "source": [
    "k_m =[]\n",
    "l_m=[]\n",
    "for i in range(0,len(ran2)):\n",
    "    kp =pt[ran2[i]]\n",
    "    k_m.append(kp)\n",
    "    kp1=b_copy[ran2[i]]\n",
    "    l_m.append(kp1)\n",
    "k = pd.DataFrame({'col':k_m})\n",
    "l =pd.DataFrame({'col':l_m})"
   ]
  },
  {
   "cell_type": "code",
   "execution_count": 33,
   "id": "45eed3be",
   "metadata": {},
   "outputs": [
    {
     "data": {
      "image/png": "[encoded data removed]",
      "text/plain": [
       "<Figure size 432x288 with 1 Axes>"
      ]
     },
     "metadata": {
      "needs_background": "light"
     },
     "output_type": "display_data"
    },
    {
     "name": "stdout",
     "output_type": "stream",
     "text": [
      "r2 score for the Amabal total is 0.6734066758955768\n"
     ]
    },
    {
     "data": {
      "image/png": "[encoded data removed]",
      "text/plain": [
       "<Figure size 432x288 with 1 Axes>"
      ]
     },
     "metadata": {
      "needs_background": "light"
     },
     "output_type": "display_data"
    },
    {
     "data": {
      "image/png": "[encoded data removed]",
      "text/plain": [
       "<Figure size 432x288 with 1 Axes>"
      ]
     },
     "metadata": {
      "needs_background": "light"
     },
     "output_type": "display_data"
    },
    {
     "name": "stdout",
     "output_type": "stream",
     "text": [
      "r2 score for only missing value for Nowrangpur is -0.6462962849151155\n"
     ]
    }
   ],
   "source": [
    "\n",
    "\n",
    "# Using Numpy to create an array X\n",
    "X = n_axis\n",
    "\n",
    "# Assign variables to the y axis part of the curve\n",
    "y = dt   #original data of Nowrangpur\n",
    "z = a_copy #Predicted\n",
    "\n",
    "# Plotting both the curves simultaneously\n",
    "plt.plot(X, y, color='r', label='Original_data')\n",
    "plt.plot(X, z, color='g', label='Predicted_data')\n",
    "\n",
    "# Naming the x-axis, y-axis \n",
    "plt.xlabel(\"Months\")\n",
    "plt.ylabel(\"Streamflow values(CBM)\")\n",
    "plt.title(\"Jagdalpur\")\n",
    "\n",
    "# Adding legend, which helps us recognize the curve according to it's color\n",
    "plt.legend()\n",
    "\n",
    "\n",
    "plt.show()\n",
    "\n",
    "from sklearn.metrics import r2_score\n",
    "r2 = r2_score(dt,a_copy)\n",
    "print('r2 score for the Amabal total is', r2)\n",
    "\n",
    "#full data\n",
    "plt.scatter(dt,a_copy ) \n",
    " \n",
    "plt.title(\"Jagdalpur_daily_data\")\n",
    "plt.xlabel('Original_dailydata')\n",
    "plt.ylabel('Predicted dailydata')\n",
    "\n",
    "plt.show()\n",
    "\n",
    "\n",
    "\n",
    "\n",
    "#plotting only missing values\n",
    "plt.scatter(g,h ) \n",
    "\n",
    "plt.title(\"jagdalpur_missing_data\")\n",
    "plt.xlabel('Original_dailydata')\n",
    "plt.ylabel('Predicted_dailydata')\n",
    "\n",
    "plt.show()\n",
    "\n",
    "from sklearn.metrics import r2_score\n",
    "r2_m = r2_score(g,h)\n",
    "print('r2 score for only missing value for Nowrangpur is', r2_m)   #for missing values"
   ]
  },
  {
   "cell_type": "code",
   "execution_count": 34,
   "id": "a769a1d3",
   "metadata": {},
   "outputs": [
    {
     "data": {
      "image/png": "[encoded data removed]",
      "text/plain": [
       "<Figure size 432x288 with 1 Axes>"
      ]
     },
     "metadata": {
      "needs_background": "light"
     },
     "output_type": "display_data"
    },
    {
     "name": "stdout",
     "output_type": "stream",
     "text": [
      "r2 score for the Amabal total is 0.7950974001899891\n"
     ]
    },
    {
     "data": {
      "image/png": "[encoded data removed]",
      "text/plain": [
       "<Figure size 432x288 with 1 Axes>"
      ]
     },
     "metadata": {
      "needs_background": "light"
     },
     "output_type": "display_data"
    },
    {
     "data": {
      "image/png": "[encoded data removed]",
      "text/plain": [
       "<Figure size 432x288 with 1 Axes>"
      ]
     },
     "metadata": {
      "needs_background": "light"
     },
     "output_type": "display_data"
    },
    {
     "name": "stdout",
     "output_type": "stream",
     "text": [
      "r2 score for only missing value for Nowrangpur is 0.8353007442676884\n"
     ]
    }
   ],
   "source": [
    "# Using Numpy to create an array X\n",
    "X = n_axis\n",
    "\n",
    "# Assign variables to the y axis part of the curve\n",
    "y = pt   #original data of Nowrangpur\n",
    "z = b_copy #Predicted\n",
    "\n",
    "# Plotting both the curves simultaneously\n",
    "plt.plot(X, y, color='r', label='Original_data')\n",
    "plt.plot(X, z, color='g', label='Predicted_data')\n",
    "\n",
    "# Naming the x-axis, y-axis \n",
    "plt.xlabel(\"Months\")\n",
    "plt.ylabel(\"Streamflow values(CBM)\")\n",
    "plt.title(\"Nowrangpur\")\n",
    "\n",
    "# Adding legend, which helps us recognize the curve according to it's color\n",
    "plt.legend()\n",
    "\n",
    "\n",
    "plt.show()\n",
    "\n",
    "from sklearn.metrics import r2_score\n",
    "r2_n = r2_score(pt,b_copy)\n",
    "print('r2 score for the Amabal total is', r2_n)\n",
    "\n",
    "#full data\n",
    "plt.scatter(pt,b_copy ) \n",
    " \n",
    "plt.title(\"Nowrangpur_daily_data\")\n",
    "plt.xlabel('Original_dailydata')\n",
    "plt.ylabel('Predicted dailydata')\n",
    "\n",
    "plt.show()\n",
    "\n",
    "\n",
    "\n",
    "\n",
    "#plotting only missing values\n",
    "plt.scatter(k,l ) \n",
    "\n",
    "plt.title(\"Nowrangpur_missing_data\")\n",
    "plt.xlabel('Original_dailydata')\n",
    "plt.ylabel('Predicted_dailydata')\n",
    "\n",
    "plt.show()\n",
    "\n",
    "from sklearn.metrics import r2_score\n",
    "r2_m = r2_score(k,l)\n",
    "print('r2 score for only missing value for Nowrangpur is', r2_m)   #for missing values"
   ]
  },
  {
   "cell_type": "code",
   "execution_count": 35,
   "id": "e3597602",
   "metadata": {},
   "outputs": [],
   "source": [
    "c_a =[]\n",
    "c_m=[]\n",
    "for i in range(0,len(ran3)):\n",
    "    cp =ct[ran3[i]]\n",
    "    c_a.append(kp)\n",
    "    cp1=c_copy[ran3[i]]\n",
    "    c_m.append(cp1)\n",
    "c = pd.DataFrame({'col':c_a})\n",
    "c_o =pd.DataFrame({'col':c_m})"
   ]
  },
  {
   "cell_type": "code",
   "execution_count": null,
   "id": "2f2a7631",
   "metadata": {},
   "outputs": [],
   "source": []
  }
 ],
 "metadata": {
  "kernelspec": {
   "display_name": "Python 3 (ipykernel)",
   "language": "python",
   "name": "python3"
  },
  "language_info": {
   "codemirror_mode": {
    "name": "ipython",
    "version": 3
   },
   "file_extension": ".py",
   "mimetype": "text/x-python",
   "name": "python",
   "nbconvert_exporter": "python",
   "pygments_lexer": "ipython3",
   "version": "3.9.12"
  }
 },
 "nbformat": 4,
 "nbformat_minor": 5
}
